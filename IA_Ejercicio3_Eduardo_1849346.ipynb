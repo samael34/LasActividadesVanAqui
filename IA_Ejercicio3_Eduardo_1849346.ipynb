{
  "nbformat": 4,
  "nbformat_minor": 0,
  "metadata": {
    "colab": {
      "name": "IA_Ejercicio3_Eduardo_1849346.ipynb",
      "provenance": [],
      "authorship_tag": "ABX9TyMMAFN/Rp8qaaALf9nZuAPj",
      "include_colab_link": true
    },
    "kernelspec": {
      "name": "python3",
      "display_name": "Python 3"
    },
    "language_info": {
      "name": "python"
    }
  },
  "cells": [
    {
      "cell_type": "markdown",
      "metadata": {
        "id": "view-in-github",
        "colab_type": "text"
      },
      "source": [
        "<a href=\"https://colab.research.google.com/github/samael34/LasActividadesVanAqui/blob/main/IA_Ejercicio3_Eduardo_1849346.ipynb\" target=\"_parent\"><img src=\"https://colab.research.google.com/assets/colab-badge.svg\" alt=\"Open In Colab\"/></a>"
      ]
    },
    {
      "cell_type": "code",
      "execution_count": 48,
      "metadata": {
        "colab": {
          "base_uri": "https://localhost:8080/"
        },
        "id": "0DUS2xqDjCCR",
        "outputId": "20ef2a69-248a-43b7-e147-76f4b5c4d442"
      },
      "outputs": [
        {
          "output_type": "stream",
          "name": "stdout",
          "text": [
            "♫♫♫♫♫♫\n",
            "♫hola♫\n",
            "♫taco♫\n",
            "♫sael♫\n",
            "♫♫♫♫♫♫\n"
          ]
        }
      ],
      "source": [
        "\"IA_Ejercicio3_Eduardo_1849346 5:00 pm \"\n",
        "\"lo intente hacer con for el margen pero no logre hacer que el cuadro fuera hueco\"\n",
        "lista= ['♫♫♫♫♫♫','♫hola♫','♫taco♫','♫sael♫','♫♫♫♫♫♫']\n",
        "h='\\n'.join([str(sublista)for sublista in lista])\n",
        "\n",
        "print(h)"
      ]
    }
  ]
}