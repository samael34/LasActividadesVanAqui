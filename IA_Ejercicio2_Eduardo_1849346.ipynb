{
  "nbformat": 4,
  "nbformat_minor": 0,
  "metadata": {
    "colab": {
      "name": "IA_Ejercicio2_Eduardo_1849346.ipynb",
      "provenance": [],
      "authorship_tag": "ABX9TyPqezmYAa/wuC0KMWMLn0ky",
      "include_colab_link": true
    },
    "kernelspec": {
      "name": "python3",
      "display_name": "Python 3"
    },
    "language_info": {
      "name": "python"
    }
  },
  "cells": [
    {
      "cell_type": "markdown",
      "metadata": {
        "id": "view-in-github",
        "colab_type": "text"
      },
      "source": [
        "<a href=\"https://colab.research.google.com/github/samael34/LasActividadesVanAqui/blob/main/IA_Ejercicio2_Eduardo_1849346.ipynb\" target=\"_parent\"><img src=\"https://colab.research.google.com/assets/colab-badge.svg\" alt=\"Open In Colab\"/></a>"
      ]
    },
    {
      "cell_type": "code",
      "execution_count": 19,
      "metadata": {
        "colab": {
          "base_uri": "https://localhost:8080/"
        },
        "id": "0DUS2xqDjCCR",
        "outputId": "b3a3ee39-3131-4ff8-ee23-aea94fc91fa8"
      },
      "outputs": [
        {
          "output_type": "stream",
          "name": "stdout",
          "text": [
            "Hasta que numero: 20\n",
            "[0, 1, 2, 3, 4, 5, 6, 7, 8, 9, 10, 11, 12, 13, 14, 15, 16, 17, 18, 19]\n",
            "[19, 18, 17, 16, 15, 14, 13, 12, 11, 10, 9, 8, 7, 6, 5, 4, 3, 2, 1, 0]\n"
          ]
        }
      ],
      "source": [
        "\"IA_Ejercicio2_Eduardo_1849346 5:00 pm \"\n",
        "numbers = int(input(\"Hasta que numero: \"))\n",
        "H=list(range(numbers))\n",
        "print(H)\n",
        "D=[num for num in reversed(H)]\n",
        "print(D)\n"
      ]
    }
  ]
}